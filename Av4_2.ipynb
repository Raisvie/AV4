{
 "cells": [
  {
   "cell_type": "markdown",
   "id": "bbee16db",
   "metadata": {},
   "source": []
  },
  {
   "cell_type": "code",
   "execution_count": 2,
   "id": "2e81e2ee",
   "metadata": {},
   "outputs": [],
   "source": [
    "import numpy as np"
   ]
  },
  {
   "cell_type": "code",
   "execution_count": 3,
   "id": "55e034d4",
   "metadata": {},
   "outputs": [
    {
     "name": "stdout",
     "output_type": "stream",
     "text": [
      "Modo 1: frequência = 0.5855 rad/s\n",
      "Modo normal (deslocamento relativo): [ 0.81373347 -0.58123819]\n",
      "Modo 2: frequência = 0.0000 rad/s\n",
      "Modo normal (deslocamento relativo): [0.70710678 0.70710678]\n"
     ]
    }
   ],
   "source": [
    "import numpy as np\n",
    "\n",
    "def calcular_frequencias_modos(m1, m2, k):\n",
    "    # Matriz de massa\n",
    "    M = np.array([[m1, 0],\n",
    "                  [0, m2]])\n",
    "   \n",
    "    # Matriz de rigidez\n",
    "    K = k * np.array([[1, -1],\n",
    "                      [-1, 1]])\n",
    "   \n",
    "    # Resolver o problema generalizado: K A = omega^2 M A\n",
    "    # Passamos a resolver (inv(M) K) A = omega^2 A\n",
    "    Minv = np.linalg.inv(M)\n",
    "    A = Minv @ K\n",
    "   \n",
    "    # Autovalores e autovetores\n",
    "    eigvals, eigvecs = np.linalg.eig(A)\n",
    "   \n",
    "    # Frequências naturais\n",
    "    omegas = np.sqrt(np.abs(eigvals))  # frequências naturais rad/s\n",
    "   \n",
    "    return omegas, eigvecs\n",
    "\n",
    "# Exemplo: m1 = 1 kg, m2 = 2 kg, k = 100 N/m\n",
    "m1 = 5.0\n",
    "m2 = 7.0\n",
    "k = 1.0\n",
    "\n",
    "omegas, modos = calcular_frequencias_modos(m1, m2, k)\n",
    "\n",
    "# Exibir resultados\n",
    "for i in range(len(omegas)):\n",
    "    print(f\"Modo {i+1}: frequência = {omegas[i]:.4f} rad/s\")\n",
    "    print(f\"Modo normal (deslocamento relativo): {modos[:, i]}\")"
   ]
  }
 ],
 "metadata": {
  "kernelspec": {
   "display_name": "venv",
   "language": "python",
   "name": "python3"
  },
  "language_info": {
   "codemirror_mode": {
    "name": "ipython",
    "version": 3
   },
   "file_extension": ".py",
   "mimetype": "text/x-python",
   "name": "python",
   "nbconvert_exporter": "python",
   "pygments_lexer": "ipython3",
   "version": "3.11.7"
  }
 },
 "nbformat": 4,
 "nbformat_minor": 5
}
